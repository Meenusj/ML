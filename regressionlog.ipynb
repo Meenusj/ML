{
  "nbformat": 4,
  "nbformat_minor": 0,
  "metadata": {
    "colab": {
      "provenance": [],
      "include_colab_link": true
    },
    "kernelspec": {
      "name": "python3",
      "display_name": "Python 3"
    },
    "language_info": {
      "name": "python"
    }
  },
  "cells": [
    {
      "cell_type": "markdown",
      "metadata": {
        "id": "view-in-github",
        "colab_type": "text"
      },
      "source": [
        "<a href=\"https://colab.research.google.com/github/Meenusj/ML/blob/main/regressionlog.ipynb\" target=\"_parent\"><img src=\"https://colab.research.google.com/assets/colab-badge.svg\" alt=\"Open In Colab\"/></a>"
      ]
    },
    {
      "cell_type": "code",
      "execution_count": null,
      "metadata": {
        "colab": {
          "base_uri": "https://localhost:8080/"
        },
        "id": "GzHX84O456C8",
        "outputId": "5353ef24-0fb4-45d6-db5a-0194e3e8b05e"
      },
      "outputs": [
        {
          "output_type": "stream",
          "name": "stdout",
          "text": [
            "     Clump Thickness  Uniformity of Cell Size  Uniformity of Cell Shape  \\\n",
            "0                  5                        1                         1   \n",
            "1                  5                        4                         4   \n",
            "2                  3                        1                         1   \n",
            "3                  6                        8                         8   \n",
            "4                  4                        1                         1   \n",
            "..               ...                      ...                       ...   \n",
            "678                3                        1                         1   \n",
            "679                2                        1                         1   \n",
            "680                5                       10                        10   \n",
            "681                4                        8                         6   \n",
            "682                4                        8                         8   \n",
            "\n",
            "     Marginal Adhesion  Single Epithelial Cell Size  Bare Nuclei  \\\n",
            "0                    1                            2            1   \n",
            "1                    5                            7           10   \n",
            "2                    1                            2            2   \n",
            "3                    1                            3            4   \n",
            "4                    3                            2            1   \n",
            "..                 ...                          ...          ...   \n",
            "678                  1                            3            2   \n",
            "679                  1                            2            1   \n",
            "680                  3                            7            3   \n",
            "681                  4                            3            4   \n",
            "682                  5                            4            5   \n",
            "\n",
            "     Bland Chromatin  Normal Nucleoli  Mitoses  Class  \n",
            "0                  3                1        1      2  \n",
            "1                  3                2        1      2  \n",
            "2                  3                1        1      2  \n",
            "3                  3                7        1      2  \n",
            "4                  3                1        1      2  \n",
            "..               ...              ...      ...    ...  \n",
            "678                1                1        1      2  \n",
            "679                1                1        1      2  \n",
            "680                8               10        2      4  \n",
            "681               10                6        1      4  \n",
            "682               10                4        1      4  \n",
            "\n",
            "[683 rows x 10 columns]\n",
            "Confusion Matrix:\n",
            "[[77  2]\n",
            " [ 6 52]]\n",
            "Accuracy: 0.9416058394160584\n"
          ]
        }
      ],
      "source": [
        "import pandas as pd\n",
        "from sklearn.model_selection import train_test_split\n",
        "from sklearn.linear_model import LogisticRegression\n",
        "from sklearn.metrics import confusion_matrix, accuracy_score\n",
        "from sklearn.preprocessing import StandardScaler  #standardscalar used for normalization.\n",
        "\n",
        "dataset = pd.read_csv('load_breast_cancer.csv')\n",
        "\n",
        "# # Extract features (input) and target (output)\n",
        "# X = dataset.drop(columns=['PowerOutput'])  # Features\n",
        "# y = dataset['PowerOutput']  # Target\n",
        "X=dataset.iloc[:,:-1]    #seperate x as input feature and y as output feature\n",
        "y=dataset.iloc[:,-1]\n",
        "print(dataset.drop(['Sample code number'],axis=1)) #droped the first column.since it is unnecessary\n",
        "# Step 2: Split the dataset into features (X) and target (y)\n",
        "# X = dataset.drop(\"target\", axis=1)\n",
        "# y = dataset[\"target\"]\n",
        "\n",
        "# Step 3: Split the dataset into training and testing sets (80% training, 20% testing)\n",
        "X_train, X_test, y_train, y_test = train_test_split(X, y, test_size=0.2, random_state=42)\n",
        "scaler=StandardScaler()                            #normalization is the process in which making all the values in all the column in the same range\n",
        "scaler.fit(X_train)\n",
        "x_train=scaler.transform(X_train)\n",
        "x_test=scaler.transform(X_test)\n",
        "# Step 4: Create and train the logistic regression model\n",
        "model = LogisticRegression()\n",
        "model.fit(X_train, y_train)\n",
        "\n",
        "\n",
        "# Step 5: Make predictions on the test set\n",
        "y_pred = model.predict(X_test)\n",
        "matrix=confusion_matrix(y_test,y_pred)\n",
        "score=accuracy_score(y_test,y_pred)\n",
        "# Step 6: Display the confusion matrix and accuracy\n",
        "# cm = confusion_matrix(y_test, y_pred)\n",
        "print(\"Confusion Matrix:\")\n",
        "print(matrix)\n",
        "\n",
        "# accuracy = accuracy_score(y_test, y_pred)\n",
        "print(\"Accuracy:\", score)"
      ]
    }
  ]
}