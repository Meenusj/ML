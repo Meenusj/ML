{
  "nbformat": 4,
  "nbformat_minor": 0,
  "metadata": {
    "colab": {
      "provenance": [],
      "include_colab_link": true
    },
    "kernelspec": {
      "name": "python3",
      "display_name": "Python 3"
    },
    "language_info": {
      "name": "python"
    }
  },
  "cells": [
    {
      "cell_type": "markdown",
      "metadata": {
        "id": "view-in-github",
        "colab_type": "text"
      },
      "source": [
        "<a href=\"https://colab.research.google.com/github/Meenusj/ML/blob/main/titanicbayesian.ipynb\" target=\"_parent\"><img src=\"https://colab.research.google.com/assets/colab-badge.svg\" alt=\"Open In Colab\"/></a>"
      ]
    },
    {
      "cell_type": "code",
      "execution_count": null,
      "metadata": {
        "colab": {
          "base_uri": "https://localhost:8080/"
        },
        "id": "7_KanMnPWS2T",
        "outputId": "cde41d3e-182e-484b-9db2-dafbb8f14144"
      },
      "outputs": [
        {
          "output_type": "stream",
          "name": "stdout",
          "text": [
            "Accuracy: 0.68\n",
            "Precision: 0.65\n",
            "Recall: 0.39\n"
          ]
        }
      ],
      "source": [
        "import pandas as pd\n",
        "import numpy as np\n",
        "from sklearn.model_selection import train_test_split\n",
        "from sklearn.naive_bayes import GaussianNB\n",
        "from sklearn.metrics import accuracy_score, precision_score, recall_score\n",
        "# Load the dataset (assuming it's named 'titanic.csv')\n",
        "data = pd.read_csv('titanic_data.csv')\n",
        "\n",
        "# Drop irrelevant columns and handle missing values as needed\n",
        "# For simplicity, let's assume we are only using numerical features Age, Fare, Pclass, and SibSp.\n",
        "# We are predicting 'Survived' (1: Survived, 0: Not Survived)\n",
        "selected_features = ['Age', 'Fare', 'Pclass', 'SibSp', 'Survived']\n",
        "data = data[selected_features].dropna()\n",
        "\n",
        "# Split the data into features (X) and labels (y)\n",
        "X = data.drop('Survived', axis=1)\n",
        "y = data['Survived']\n",
        "X_train, X_test, y_train, y_test = train_test_split(X, y, test_size=0.2, random_state=42)\n",
        "# Create the Gaussian Naive Bayes classifier\n",
        "bayesian_classifier = GaussianNB()\n",
        "\n",
        "# Train the classifier on the training data\n",
        "bayesian_classifier.fit(X_train, y_train)\n",
        "y_pred = bayesian_classifier.predict(X_test)\n",
        "accuracy = accuracy_score(y_test, y_pred)\n",
        "precision = precision_score(y_test, y_pred)\n",
        "recall = recall_score(y_test, y_pred)\n",
        "\n",
        "print(f\"Accuracy: {accuracy:.2f}\")\n",
        "print(f\"Precision: {precision:.2f}\")\n",
        "print(f\"Recall: {recall:.2f}\")"
      ]
    }
  ]
}