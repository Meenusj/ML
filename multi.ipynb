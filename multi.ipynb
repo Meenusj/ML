{
  "nbformat": 4,
  "nbformat_minor": 0,
  "metadata": {
    "colab": {
      "provenance": [],
      "include_colab_link": true
    },
    "kernelspec": {
      "name": "python3",
      "display_name": "Python 3"
    },
    "language_info": {
      "name": "python"
    }
  },
  "cells": [
    {
      "cell_type": "markdown",
      "metadata": {
        "id": "view-in-github",
        "colab_type": "text"
      },
      "source": [
        "<a href=\"https://colab.research.google.com/github/Meenusj/ML/blob/main/multi.ipynb\" target=\"_parent\"><img src=\"https://colab.research.google.com/assets/colab-badge.svg\" alt=\"Open In Colab\"/></a>"
      ]
    },
    {
      "cell_type": "code",
      "execution_count": null,
      "metadata": {
        "colab": {
          "base_uri": "https://localhost:8080/"
        },
        "id": "rNamIUT1pYqu",
        "outputId": "660ef3a1-8be3-4b06-ef14-27925cbbee38"
      },
      "outputs": [
        {
          "output_type": "stream",
          "name": "stdout",
          "text": [
            "SVM Accuracy: 0.90\n",
            "Majority Voting Accuracy: 0.90\n"
          ]
        }
      ],
      "source": [
        "import pandas as pd\n",
        "from sklearn.model_selection import train_test_split\n",
        "from sklearn.svm import SVC\n",
        "from sklearn.metrics import accuracy_score\n",
        "from sklearn.ensemble import VotingClassifier\n",
        "\n",
        "# Load the dataset into a pandas DataFrame (replace 'dataset.csv' with the actual filename)\n",
        "data = pd.read_csv('iris.csv')\n",
        "\n",
        "# Assuming the target variable is named 'target_column'\n",
        "# X = data.drop('target_column', axis=1)\n",
        "# # y = data['target_column']\n",
        "X=data.iloc[:,:-1]    #seperate x as input feature and y as output feature\n",
        "y=data.iloc[:,-1]\n",
        "\n",
        "# Split the data into training and testing sets (80% training, 20% testing)\n",
        "X_train, X_test, y_train, y_test = train_test_split(X, y, test_size=0.2, random_state=42)\n",
        "# Create the SVM classifier\n",
        "svm_classifier = SVC()\n",
        "\n",
        "# Train the SVM classifier on the training data\n",
        "svm_classifier.fit(X_train, y_train)\n",
        "\n",
        "# Make predictions on the test set\n",
        "y_pred_svm = svm_classifier.predict(X_test)\n",
        "# Create the majority voting classifier with SVM and other classifiers if needed\n",
        "voting_classifier = VotingClassifier(estimators=[('svm', svm_classifier)], voting='hard')\n",
        "\n",
        "# Train the voting classifier on the training data\n",
        "voting_classifier.fit(X_train, y_train)\n",
        "\n",
        "# Make predictions on the test set using majority voting\n",
        "y_pred_voting = voting_classifier.predict(X_test)\n",
        "# Calculate accuracy for SVM classifier\n",
        "accuracy_svm = accuracy_score(y_test, y_pred_svm)\n",
        "print(f\"SVM Accuracy: {accuracy_svm:.2f}\")\n",
        "\n",
        "# Calculate accuracy for the majority voting classifier\n",
        "accuracy_voting = accuracy_score(y_test, y_pred_voting)\n",
        "print(f\"Majority Voting Accuracy: {accuracy_voting:.2f}\")\n"
      ]
    }
  ]
}