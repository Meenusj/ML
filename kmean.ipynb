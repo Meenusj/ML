{
  "nbformat": 4,
  "nbformat_minor": 0,
  "metadata": {
    "colab": {
      "provenance": [],
      "authorship_tag": "ABX9TyOYLSwXHG2rmaWJhSpC4vKd",
      "include_colab_link": true
    },
    "kernelspec": {
      "name": "python3",
      "display_name": "Python 3"
    },
    "language_info": {
      "name": "python"
    }
  },
  "cells": [
    {
      "cell_type": "markdown",
      "metadata": {
        "id": "view-in-github",
        "colab_type": "text"
      },
      "source": [
        "<a href=\"https://colab.research.google.com/github/Meenusj/ML/blob/main/kmean.ipynb\" target=\"_parent\"><img src=\"https://colab.research.google.com/assets/colab-badge.svg\" alt=\"Open In Colab\"/></a>"
      ]
    },
    {
      "cell_type": "code",
      "execution_count": null,
      "metadata": {
        "colab": {
          "base_uri": "https://localhost:8080/"
        },
        "id": "r4rdu0vrgGWj",
        "outputId": "cfbe60a6-8cff-41ff-db62-0dc00d094fe7"
      },
      "outputs": [
        {
          "output_type": "stream",
          "name": "stdout",
          "text": [
            "Centroids:\n",
            "[[0.33066667 1.60833333]\n",
            " [1.26633333 0.45466667]\n",
            " [1.30633333 1.41933333]]\n",
            "Predicted Cluster: 1\n"
          ]
        }
      ],
      "source": [
        "import numpy as np\n",
        "from sklearn.cluster import KMeans\n",
        "\n",
        "# Given data\n",
        "data = np.array([[1.713, 1.586],\n",
        "                 [0.180, 1.786],\n",
        "                 [0.353, 1.240],\n",
        "                 [0.940, 1.566],\n",
        "                 [1.486, 0.759],\n",
        "                 [1.266, 1.106],\n",
        "                 [1.540, 0.419],\n",
        "                 [0.459, 1.799],\n",
        "                 [0.773, 0.186]])\n",
        "\n",
        "# Number of clusters (means)\n",
        "k = 3\n",
        "\n",
        "# Perform k-means clustering\n",
        "kmeans = KMeans(n_clusters=k, random_state=42, n_init=10)\n",
        "kmeans.fit(data)\n",
        "\n",
        "# Centroids\n",
        "centroids = kmeans.cluster_centers_\n",
        "print(\"Centroids:\")\n",
        "print(centroids)\n",
        "# New data point to classify\n",
        "new_data_point = np.array([[0.906, 0.606]])\n",
        "\n",
        "# Predict the nearest cluster for the new data point\n",
        "predicted_cluster = kmeans.predict(new_data_point)\n",
        "print(\"Predicted Cluster:\", predicted_cluster[0])\n"
      ]
    }
  ]
}