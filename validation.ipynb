{
  "nbformat": 4,
  "nbformat_minor": 0,
  "metadata": {
    "colab": {
      "provenance": [],
      "include_colab_link": true
    },
    "kernelspec": {
      "name": "python3",
      "display_name": "Python 3"
    },
    "language_info": {
      "name": "python"
    }
  },
  "cells": [
    {
      "cell_type": "markdown",
      "metadata": {
        "id": "view-in-github",
        "colab_type": "text"
      },
      "source": [
        "<a href=\"https://colab.research.google.com/github/Meenusj/ML/blob/main/validation.ipynb\" target=\"_parent\"><img src=\"https://colab.research.google.com/assets/colab-badge.svg\" alt=\"Open In Colab\"/></a>"
      ]
    },
    {
      "cell_type": "code",
      "execution_count": null,
      "metadata": {
        "colab": {
          "base_uri": "https://localhost:8080/"
        },
        "id": "NvmtFaiUyYNY",
        "outputId": "504be91f-d535-48d1-a6e2-8083682dcd17"
      },
      "outputs": [
        {
          "output_type": "stream",
          "name": "stdout",
          "text": [
            "               Method  F1 Score\n",
            "0  10-Fold Validation  0.904060\n",
            "1         80:20 Split  0.942230\n",
            "2         70:30 Split  0.927945\n",
            "3         60:40 Split  0.935203\n"
          ]
        }
      ],
      "source": [
        "import pandas as pd\n",
        "from sklearn.datasets import load_breast_cancer\n",
        "from sklearn.model_selection import train_test_split, cross_val_score\n",
        "from sklearn.svm import SVC\n",
        "from sklearn.metrics import f1_score\n",
        "import numpy as np\n",
        "\n",
        "# Load the \"Breast Cancer Wisconsin (Diagnostic)\" dataset from scikit-learn\n",
        "breast_cancer_data = load_breast_cancer()\n",
        "X, y = breast_cancer_data.data, breast_cancer_data.target\n",
        "\n",
        "# 10-fold validation with SVM\n",
        "svm_classifier = SVC()\n",
        "f1_scores_10fold = cross_val_score(svm_classifier, X, y, cv=10, scoring='f1_macro')\n",
        "\n",
        "# Train-test split ratios\n",
        "train_test_splits = [(0.8, 0.2), (0.7, 0.3), (0.6, 0.4)]\n",
        "f1_scores_train_test = []\n",
        "\n",
        "# Perform SVM classification with different train-test splits\n",
        "for train_size, test_size in train_test_splits:\n",
        "    X_train, X_test, y_train, y_test = train_test_split(X, y, test_size=test_size, random_state=42)\n",
        "    svm_classifier.fit(X_train, y_train)\n",
        "    y_pred = svm_classifier.predict(X_test)\n",
        "    f1 = f1_score(y_test, y_pred, average='macro')\n",
        "    f1_scores_train_test.append(f1)\n",
        "\n",
        "# Prepare a comparison table of F1 scores for a and b\n",
        "comparison_data = {\n",
        "    'Method': ['10-Fold Validation', '80:20 Split', '70:30 Split', '60:40 Split'],\n",
        "    'F1 Score': [np.mean(f1_scores_10fold)] + f1_scores_train_test\n",
        "}\n",
        "\n",
        "comparison_table = pd.DataFrame(comparison_data)\n",
        "print(comparison_table)"
      ]
    }
  ]
}